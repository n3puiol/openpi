{
 "cells": [
  {
   "cell_type": "code",
   "execution_count": 1,
   "id": "755430d7",
   "metadata": {},
   "outputs": [],
   "source": [
    "%load_ext autoreload\n",
    "%autoreload 2"
   ]
  },
  {
   "cell_type": "code",
   "execution_count": 2,
   "id": "8a444440",
   "metadata": {},
   "outputs": [
    {
     "name": "stderr",
     "output_type": "stream",
     "text": [
      "/scratch/s5649552/conda/envs/openpi/lib/python3.11/site-packages/tqdm/auto.py:21: TqdmWarning: IProgress not found. Please update jupyter and ipywidgets. See https://ipywidgets.readthedocs.io/en/stable/user_install.html\n",
      "  from .autonotebook import tqdm as notebook_tqdm\n"
     ]
    }
   ],
   "source": [
    "import numpy as np\n",
    "from openpi.policies import libero_policy\n",
    "from openpi.policies import policy_config as _policy_config\n",
    "from openpi.shared import download\n",
    "from openpi.training import config as _config\n",
    "import openpi.training.data_loader as _data_loader\n",
    "import openpi.training.sharding as sharding\n",
    "import predictor.predictor as predictor"
   ]
  },
  {
   "cell_type": "code",
   "execution_count": 3,
   "id": "6df0465f",
   "metadata": {},
   "outputs": [
    {
     "name": "stderr",
     "output_type": "stream",
     "text": [
      "2025-08-23 13:18:49.544825: W external/xla/xla/service/platform_util.cc:211] unable to create StreamExecutor for CUDA:0: : CUDA_ERROR_OUT_OF_MEMORY: out of memory\n"
     ]
    },
    {
     "ename": "RuntimeError",
     "evalue": "Unable to initialize backend 'cuda': INTERNAL: no supported devices found for platform CUDA (you may need to uninstall the failing plugin package, or set JAX_PLATFORMS=cpu to skip this backend.)",
     "output_type": "error",
     "traceback": [
      "\u001b[31m---------------------------------------------------------------------------\u001b[39m",
      "\u001b[31mXlaRuntimeError\u001b[39m                           Traceback (most recent call last)",
      "\u001b[36mFile \u001b[39m\u001b[32m/scratch/s5649552/conda/envs/openpi/lib/python3.11/site-packages/jax/_src/xla_bridge.py:915\u001b[39m, in \u001b[36mbackends\u001b[39m\u001b[34m()\u001b[39m\n\u001b[32m    913\u001b[39m   \u001b[38;5;28;01mcontinue\u001b[39;00m\n\u001b[32m--> \u001b[39m\u001b[32m915\u001b[39m backend = \u001b[43m_init_backend\u001b[49m\u001b[43m(\u001b[49m\u001b[43mplatform\u001b[49m\u001b[43m)\u001b[49m\n\u001b[32m    916\u001b[39m _backends[platform] = backend\n",
      "\u001b[36mFile \u001b[39m\u001b[32m/scratch/s5649552/conda/envs/openpi/lib/python3.11/site-packages/jax/_src/xla_bridge.py:1001\u001b[39m, in \u001b[36m_init_backend\u001b[39m\u001b[34m(platform)\u001b[39m\n\u001b[32m   1000\u001b[39m logger.debug(\u001b[33m\"\u001b[39m\u001b[33mInitializing backend \u001b[39m\u001b[33m'\u001b[39m\u001b[38;5;132;01m%s\u001b[39;00m\u001b[33m'\u001b[39m\u001b[33m\"\u001b[39m, platform)\n\u001b[32m-> \u001b[39m\u001b[32m1001\u001b[39m backend = \u001b[43mregistration\u001b[49m\u001b[43m.\u001b[49m\u001b[43mfactory\u001b[49m\u001b[43m(\u001b[49m\u001b[43m)\u001b[49m\n\u001b[32m   1002\u001b[39m \u001b[38;5;66;03m# TODO(skye): consider raising more descriptive errors directly from backend\u001b[39;00m\n\u001b[32m   1003\u001b[39m \u001b[38;5;66;03m# factories instead of returning None.\u001b[39;00m\n",
      "\u001b[36mFile \u001b[39m\u001b[32m/scratch/s5649552/conda/envs/openpi/lib/python3.11/site-packages/jax/_src/xla_bridge.py:693\u001b[39m, in \u001b[36mregister_plugin.<locals>.factory\u001b[39m\u001b[34m()\u001b[39m\n\u001b[32m    692\u001b[39m \u001b[38;5;28;01mif\u001b[39;00m distributed.global_state.client \u001b[38;5;129;01mis\u001b[39;00m \u001b[38;5;28;01mNone\u001b[39;00m:\n\u001b[32m--> \u001b[39m\u001b[32m693\u001b[39m   \u001b[38;5;28;01mreturn\u001b[39;00m \u001b[43mxla_client\u001b[49m\u001b[43m.\u001b[49m\u001b[43mmake_c_api_client\u001b[49m\u001b[43m(\u001b[49m\u001b[43mplugin_name\u001b[49m\u001b[43m,\u001b[49m\u001b[43m \u001b[49m\u001b[43mupdated_options\u001b[49m\u001b[43m,\u001b[49m\u001b[43m \u001b[49m\u001b[38;5;28;43;01mNone\u001b[39;49;00m\u001b[43m)\u001b[49m\n\u001b[32m    695\u001b[39m distribute_options = {\n\u001b[32m    696\u001b[39m     \u001b[33m'\u001b[39m\u001b[33mnode_id\u001b[39m\u001b[33m'\u001b[39m: distributed.global_state.process_id,\n\u001b[32m    697\u001b[39m     \u001b[33m'\u001b[39m\u001b[33mnum_nodes\u001b[39m\u001b[33m'\u001b[39m: distributed.global_state.num_processes,\n\u001b[32m    698\u001b[39m }\n",
      "\u001b[36mFile \u001b[39m\u001b[32m/scratch/s5649552/conda/envs/openpi/lib/python3.11/site-packages/jaxlib/xla_client.py:207\u001b[39m, in \u001b[36mmake_c_api_client\u001b[39m\u001b[34m(plugin_name, options, distributed_client)\u001b[39m\n\u001b[32m    206\u001b[39m   options = {}\n\u001b[32m--> \u001b[39m\u001b[32m207\u001b[39m \u001b[38;5;28;01mreturn\u001b[39;00m \u001b[43m_xla\u001b[49m\u001b[43m.\u001b[49m\u001b[43mget_c_api_client\u001b[49m\u001b[43m(\u001b[49m\u001b[43mplugin_name\u001b[49m\u001b[43m,\u001b[49m\u001b[43m \u001b[49m\u001b[43moptions\u001b[49m\u001b[43m,\u001b[49m\u001b[43m \u001b[49m\u001b[43mdistributed_client\u001b[49m\u001b[43m)\u001b[49m\n",
      "\u001b[31mXlaRuntimeError\u001b[39m: INTERNAL: no supported devices found for platform CUDA",
      "\nDuring handling of the above exception, another exception occurred:\n",
      "\u001b[31mRuntimeError\u001b[39m                              Traceback (most recent call last)",
      "\u001b[36mCell\u001b[39m\u001b[36m \u001b[39m\u001b[32mIn[3]\u001b[39m\u001b[32m, line 5\u001b[39m\n\u001b[32m      1\u001b[39m config = _config.get_config(\u001b[33m\"\u001b[39m\u001b[33mpi0_fast_libero_low_mem_predictor\u001b[39m\u001b[33m\"\u001b[39m)\n\u001b[32m      2\u001b[39m checkpoint_dir = download.maybe_download(\n\u001b[32m      3\u001b[39m     \u001b[33m\"\u001b[39m\u001b[33mgs://openpi-assets/checkpoints/pi0_fast_libero\u001b[39m\u001b[33m\"\u001b[39m\n\u001b[32m      4\u001b[39m )\n\u001b[32m----> \u001b[39m\u001b[32m5\u001b[39m policy = \u001b[43m_policy_config\u001b[49m\u001b[43m.\u001b[49m\u001b[43mcreate_trained_policy\u001b[49m\u001b[43m(\u001b[49m\u001b[43mconfig\u001b[49m\u001b[43m,\u001b[49m\u001b[43m \u001b[49m\u001b[43mcheckpoint_dir\u001b[49m\u001b[43m)\u001b[49m\n",
      "\u001b[36mFile \u001b[39m\u001b[32m/scratch/s5649552/openpi/src/openpi/policies/policy_config.py:56\u001b[39m, in \u001b[36mcreate_trained_policy\u001b[39m\u001b[34m(train_config, checkpoint_dir, repack_transforms, sample_kwargs, default_prompt, norm_stats)\u001b[39m\n\u001b[32m     53\u001b[39m checkpoint_dir = download.maybe_download(\u001b[38;5;28mstr\u001b[39m(checkpoint_dir))\n\u001b[32m     55\u001b[39m logging.info(\u001b[33m\"\u001b[39m\u001b[33mLoading model...\u001b[39m\u001b[33m\"\u001b[39m)\n\u001b[32m---> \u001b[39m\u001b[32m56\u001b[39m model = train_config.model.load(\u001b[43m_model\u001b[49m\u001b[43m.\u001b[49m\u001b[43mrestore_params\u001b[49m\u001b[43m(\u001b[49m\u001b[43mcheckpoint_dir\u001b[49m\u001b[43m \u001b[49m\u001b[43m/\u001b[49m\u001b[43m \u001b[49m\u001b[33;43m\"\u001b[39;49m\u001b[33;43mparams\u001b[39;49m\u001b[33;43m\"\u001b[39;49m\u001b[43m,\u001b[49m\u001b[43m \u001b[49m\u001b[43mdtype\u001b[49m\u001b[43m=\u001b[49m\u001b[43mjnp\u001b[49m\u001b[43m.\u001b[49m\u001b[43mbfloat16\u001b[49m\u001b[43m)\u001b[49m)\n\u001b[32m     58\u001b[39m data_config = train_config.data.create(train_config.assets_dirs, train_config.model)\n\u001b[32m     59\u001b[39m \u001b[38;5;28;01mif\u001b[39;00m norm_stats \u001b[38;5;129;01mis\u001b[39;00m \u001b[38;5;28;01mNone\u001b[39;00m:\n\u001b[32m     60\u001b[39m     \u001b[38;5;66;03m# We are loading the norm stats from the checkpoint instead of the config assets dir to make sure\u001b[39;00m\n\u001b[32m     61\u001b[39m     \u001b[38;5;66;03m# that the policy is using the same normalization stats as the original training process.\u001b[39;00m\n",
      "\u001b[36mFile \u001b[39m\u001b[32m/scratch/s5649552/openpi/src/openpi/models/model.py:302\u001b[39m, in \u001b[36mrestore_params\u001b[39m\u001b[34m(params_path, restore_type, dtype, sharding)\u001b[39m\n\u001b[32m    299\u001b[39m     \u001b[38;5;28;01mraise\u001b[39;00m \u001b[38;5;167;01mFileNotFoundError\u001b[39;00m(\u001b[33mf\u001b[39m\u001b[33m\"\u001b[39m\u001b[33mModel params not found at: \u001b[39m\u001b[38;5;132;01m{\u001b[39;00mparams_path\u001b[38;5;132;01m}\u001b[39;00m\u001b[33m\"\u001b[39m)\n\u001b[32m    301\u001b[39m \u001b[38;5;28;01mif\u001b[39;00m restore_type \u001b[38;5;129;01mis\u001b[39;00m jax.Array \u001b[38;5;129;01mand\u001b[39;00m sharding \u001b[38;5;129;01mis\u001b[39;00m \u001b[38;5;28;01mNone\u001b[39;00m:\n\u001b[32m--> \u001b[39m\u001b[32m302\u001b[39m     mesh = jax.sharding.Mesh(\u001b[43mjax\u001b[49m\u001b[43m.\u001b[49m\u001b[43mdevices\u001b[49m\u001b[43m(\u001b[49m\u001b[43m)\u001b[49m, (\u001b[33m\"\u001b[39m\u001b[33mx\u001b[39m\u001b[33m\"\u001b[39m,))\n\u001b[32m    303\u001b[39m     sharding = jax.sharding.NamedSharding(mesh, jax.sharding.PartitionSpec())\n\u001b[32m    305\u001b[39m \u001b[38;5;28;01mwith\u001b[39;00m ocp.PyTreeCheckpointer() \u001b[38;5;28;01mas\u001b[39;00m ckptr:\n",
      "\u001b[36mFile \u001b[39m\u001b[32m/scratch/s5649552/conda/envs/openpi/lib/python3.11/site-packages/jax/_src/xla_bridge.py:1115\u001b[39m, in \u001b[36mdevices\u001b[39m\u001b[34m(backend)\u001b[39m\n\u001b[32m   1090\u001b[39m \u001b[38;5;28;01mdef\u001b[39;00m\u001b[38;5;250m \u001b[39m\u001b[34mdevices\u001b[39m(\n\u001b[32m   1091\u001b[39m     backend: \u001b[38;5;28mstr\u001b[39m | xla_client.Client | \u001b[38;5;28;01mNone\u001b[39;00m = \u001b[38;5;28;01mNone\u001b[39;00m\n\u001b[32m   1092\u001b[39m ) -> \u001b[38;5;28mlist\u001b[39m[xla_client.Device]:\n\u001b[32m   1093\u001b[39m \u001b[38;5;250m  \u001b[39m\u001b[33;03m\"\"\"Returns a list of all devices for a given backend.\u001b[39;00m\n\u001b[32m   1094\u001b[39m \n\u001b[32m   1095\u001b[39m \u001b[33;03m  .. currentmodule:: jaxlib.xla_extension\u001b[39;00m\n\u001b[32m   (...)\u001b[39m\u001b[32m   1113\u001b[39m \u001b[33;03m    List of Device subclasses.\u001b[39;00m\n\u001b[32m   1114\u001b[39m \u001b[33;03m  \"\"\"\u001b[39;00m\n\u001b[32m-> \u001b[39m\u001b[32m1115\u001b[39m   \u001b[38;5;28;01mreturn\u001b[39;00m \u001b[43mget_backend\u001b[49m\u001b[43m(\u001b[49m\u001b[43mbackend\u001b[49m\u001b[43m)\u001b[49m.devices()\n",
      "\u001b[36mFile \u001b[39m\u001b[32m/scratch/s5649552/conda/envs/openpi/lib/python3.11/site-packages/jax/_src/xla_bridge.py:1049\u001b[39m, in \u001b[36mget_backend\u001b[39m\u001b[34m(platform)\u001b[39m\n\u001b[32m   1045\u001b[39m \u001b[38;5;129m@lru_cache\u001b[39m(maxsize=\u001b[38;5;28;01mNone\u001b[39;00m)  \u001b[38;5;66;03m# don't use util.memoize because there is no X64 dependence.\u001b[39;00m\n\u001b[32m   1046\u001b[39m \u001b[38;5;28;01mdef\u001b[39;00m\u001b[38;5;250m \u001b[39m\u001b[34mget_backend\u001b[39m(\n\u001b[32m   1047\u001b[39m     platform: \u001b[38;5;28;01mNone\u001b[39;00m | \u001b[38;5;28mstr\u001b[39m | xla_client.Client = \u001b[38;5;28;01mNone\u001b[39;00m\n\u001b[32m   1048\u001b[39m ) -> xla_client.Client:\n\u001b[32m-> \u001b[39m\u001b[32m1049\u001b[39m   \u001b[38;5;28;01mreturn\u001b[39;00m \u001b[43m_get_backend_uncached\u001b[49m\u001b[43m(\u001b[49m\u001b[43mplatform\u001b[49m\u001b[43m)\u001b[49m\n",
      "\u001b[36mFile \u001b[39m\u001b[32m/scratch/s5649552/conda/envs/openpi/lib/python3.11/site-packages/jax/_src/xla_bridge.py:1028\u001b[39m, in \u001b[36m_get_backend_uncached\u001b[39m\u001b[34m(platform)\u001b[39m\n\u001b[32m   1024\u001b[39m   \u001b[38;5;28;01mreturn\u001b[39;00m platform\n\u001b[32m   1026\u001b[39m platform = (platform \u001b[38;5;129;01mor\u001b[39;00m _XLA_BACKEND.value \u001b[38;5;129;01mor\u001b[39;00m _PLATFORM_NAME.value \u001b[38;5;129;01mor\u001b[39;00m \u001b[38;5;28;01mNone\u001b[39;00m)\n\u001b[32m-> \u001b[39m\u001b[32m1028\u001b[39m bs = \u001b[43mbackends\u001b[49m\u001b[43m(\u001b[49m\u001b[43m)\u001b[49m\n\u001b[32m   1029\u001b[39m \u001b[38;5;28;01mif\u001b[39;00m platform \u001b[38;5;129;01mis\u001b[39;00m \u001b[38;5;129;01mnot\u001b[39;00m \u001b[38;5;28;01mNone\u001b[39;00m:\n\u001b[32m   1030\u001b[39m   platform = canonicalize_platform(platform)\n",
      "\u001b[36mFile \u001b[39m\u001b[32m/scratch/s5649552/conda/envs/openpi/lib/python3.11/site-packages/jax/_src/xla_bridge.py:931\u001b[39m, in \u001b[36mbackends\u001b[39m\u001b[34m()\u001b[39m\n\u001b[32m    929\u001b[39m       \u001b[38;5;28;01melse\u001b[39;00m:\n\u001b[32m    930\u001b[39m         err_msg += \u001b[33m\"\u001b[39m\u001b[33m (you may need to uninstall the failing plugin package, or set JAX_PLATFORMS=cpu to skip this backend.)\u001b[39m\u001b[33m\"\u001b[39m\n\u001b[32m--> \u001b[39m\u001b[32m931\u001b[39m       \u001b[38;5;28;01mraise\u001b[39;00m \u001b[38;5;167;01mRuntimeError\u001b[39;00m(err_msg)\n\u001b[32m    933\u001b[39m \u001b[38;5;28;01massert\u001b[39;00m _default_backend \u001b[38;5;129;01mis\u001b[39;00m \u001b[38;5;129;01mnot\u001b[39;00m \u001b[38;5;28;01mNone\u001b[39;00m\n\u001b[32m    934\u001b[39m \u001b[38;5;28;01mif\u001b[39;00m \u001b[38;5;129;01mnot\u001b[39;00m config.jax_platforms.value:\n",
      "\u001b[31mRuntimeError\u001b[39m: Unable to initialize backend 'cuda': INTERNAL: no supported devices found for platform CUDA (you may need to uninstall the failing plugin package, or set JAX_PLATFORMS=cpu to skip this backend.)"
     ]
    }
   ],
   "source": [
    "config = _config.get_config(\"pi0_fast_libero_low_mem_predictor\")\n",
    "checkpoint_dir = download.maybe_download(\n",
    "    \"gs://openpi-assets/checkpoints/pi0_fast_libero\"\n",
    ")\n",
    "policy = _policy_config.create_trained_policy(config, checkpoint_dir)"
   ]
  },
  {
   "cell_type": "code",
   "execution_count": null,
   "id": "ef93a233",
   "metadata": {},
   "outputs": [],
   "source": []
  }
 ],
 "metadata": {
  "kernelspec": {
   "display_name": "openpi",
   "language": "python",
   "name": "python3"
  },
  "language_info": {
   "codemirror_mode": {
    "name": "ipython",
    "version": 3
   },
   "file_extension": ".py",
   "mimetype": "text/x-python",
   "name": "python",
   "nbconvert_exporter": "python",
   "pygments_lexer": "ipython3",
   "version": "3.11.13"
  }
 },
 "nbformat": 4,
 "nbformat_minor": 5
}
